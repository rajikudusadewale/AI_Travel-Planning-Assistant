{
 "cells": [
  {
   "cell_type": "markdown",
   "metadata": {},
   "source": [
    "# Travelling Personal Assistant"
   ]
  },
  {
   "cell_type": "markdown",
   "metadata": {},
   "source": [
    "#### Initialize OpenAI API Clients"
   ]
  },
  {
   "cell_type": "code",
   "execution_count": null,
   "metadata": {},
   "outputs": [],
   "source": [
    "import os\n",
    "import openai\n",
    "import IPython\n",
    "import ipywidgets as widgets\n",
    "\n",
    "from IPython.display import display, Markdown\n",
    "\n",
    "os.environ['OPENAI_API_KEY'] = 'sk-proj-t5af7zZmWhB5TxQ6wT5xT3BlbkFJOKJuzSx8ZuFqpvZbmXbx'\n",
    "openai.api_key = os.environ.get('OPENAI_API_KEY')\n",
    "\n",
    "from openai import OpenAI\n",
    "client = OpenAI()"
   ]
  },
  {
   "cell_type": "markdown",
   "metadata": {},
   "source": [
    "#### Generate Travel Itinerary Using Chat Completion"
   ]
  },
  {
   "cell_type": "code",
   "execution_count": null,
   "metadata": {},
   "outputs": [],
   "source": [
    "def generate_travel_itinerary(destination, days=7, model='gpt-3.5-turbo', temperature=1):\n",
    "    \n",
    "    system_message = \"\"\"\n",
    "    You are a travel planning assistant. Your goal is to make the travel planning experience easy, faster, and efficient for travelers. You will help users plan their trips by providing comprehensive travel itineraries, destination recommendations, transportation options, accommodation suggestions, packing lists, and local tips. Consider all aspects of travel, including flights, trains, car rentals, hotels, activities, dining options, cultural attractions, and safety advice. Your responses should be friendly, informative, and tailored to the specific needs of the traveler.\n",
    "    \"\"\"\n",
    "    \n",
    "    user_prompt = f\"\"\"\n",
    "    ## Setup:\n",
    "    - persona: Friendly, knowledgeable, and efficient travel planning assistant.\n",
    "    - context: The user is planning a {days}-day trip to {destination} and needs a detailed travel itinerary.\n",
    "\n",
    "    ## The Instruction:\n",
    "    - instruction: Create a detailed {days}-day travel itinerary for a trip to {destination}, including recommendations for flights, accommodations, local transportation, must-see attractions, dining options, cultural tips, and safety advice. Ensure the itinerary is easy to follow and covers a variety of experiences, from sightseeing to local cuisine.\n",
    "    - few-shot prompting: \n",
    "      - Day 1: Arrival in Tokyo\n",
    "        - Morning: Arrive in Tokyo and check into your hotel.\n",
    "        - Afternoon: Explore Asakusa and visit the Sensoji Temple.\n",
    "        - Evening: Dinner at a local sushi restaurant.\n",
    "      - Day 2: Tokyo\n",
    "        - Morning: Visit the Tsukiji Fish Market.\n",
    "        - Afternoon: Walk through the Ginza shopping district.\n",
    "        - Evening: Enjoy a night view from Tokyo Tower.\n",
    "    - chain of thought: Plan each day, considering transportation and accommodation, recommending attractions and dining options, and adding cultural tips and safety advice.\n",
    "\n",
    "    ## The Output:\n",
    "    - The output should be based on the chain of thought for the unique destination the user inputted.\n",
    "    - format: Structured in a clear, day-by-day itinerary format.\n",
    "    - additional restriction: Ensure the itinerary includes diverse experiences, from sightseeing and local cuisine to cultural tips and safety advice.\n",
    "    <Format: format everything in text.>\n",
    "    \"\"\"\n",
    "    \n",
    "    response = client.chat.completions.create( \n",
    "        model=model,\n",
    "        messages=[\n",
    "            {'role': 'system', 'content': system_message},\n",
    "            {'role': 'user', 'content': user_prompt}\n",
    "        ],\n",
    "        temperature=temperature,\n",
    "        top_p=1,\n",
    "        frequency_penalty=0,\n",
    "        presence_penalty=0\n",
    "    )\n",
    "    \n",
    "    return response.choices[0].message.content"
   ]
  },
  {
   "cell_type": "markdown",
   "metadata": {},
   "source": [
    "#### Ask the user's destination"
   ]
  },
  {
   "cell_type": "code",
   "execution_count": null,
   "metadata": {},
   "outputs": [],
   "source": [
    "place = input('Hello, I am your Personal Travel Planning Assistant, May I know where you want to go? ')\n",
    "itinerary = generate_travel_itinerary(destination=place)\n",
    "display(Markdown(itinerary))"
   ]
  },
  {
   "cell_type": "markdown",
   "metadata": {},
   "source": [
    "#### Flowchats of the Travel Plans Using DALL-E"
   ]
  },
  {
   "cell_type": "code",
   "execution_count": null,
   "metadata": {},
   "outputs": [],
   "source": [
    "# Step 3: Visualize Destinations Using DALL-E\n",
    "def visualize_destination(itinerary, model='dall-e-3', size='1792x1024', quality='standard'):\n",
    "    image_prompt = f'Generate a flowcharts that visualizes the provided 7-day travel {itinerary}'\n",
    "    image_response = client.images.generate(\n",
    "        model=model,\n",
    "        prompt=image_prompt,\n",
    "        style='natural',\n",
    "        size=size,  # 1024x1024, 1024x1792, 1792x1024 pixels\n",
    "        quality=quality\n",
    "    )\n",
    "    \n",
    "    \n",
    "    image_url = image_response.data[0].url\n",
    "    display(widgets.HTML(f\"<img src='{image_url}' width='400'>\"))\n"
   ]
  },
  {
   "cell_type": "code",
   "execution_count": null,
   "metadata": {},
   "outputs": [],
   "source": [
    "# Visualize the flowchat generated using DALL-E-3\n",
    "visualize_destination(itinerary)"
   ]
  },
  {
   "cell_type": "markdown",
   "metadata": {},
   "source": [
    "#### Voice commands for Travel Planning Using TTS (Text To Speech)Model "
   ]
  },
  {
   "cell_type": "markdown",
   "metadata": {},
   "source": [
    "#### The AI Assistant will read aloud the travel itinerary to you if you dont have time to read it. "
   ]
  },
  {
   "cell_type": "code",
   "execution_count": null,
   "metadata": {},
   "outputs": [],
   "source": [
    "def generate_tts(itinerary):\n",
    "    introduction = \"I am your Personal Travel Assistant, I will read out your travel plan. Here is your itinerary:\\n\\n\"\n",
    "    end_word = \"I am always here to here you out all through your trips. Thank you\\n\\n\"\n",
    "    tts_text = introduction + itinerary + end_word\n",
    "    return tts_text\n",
    "\n",
    "input  = generate_tts(itinerary)\n",
    "\n",
    "response = client.audio.speech.create(\n",
    "  model=\"tts-1\",\n",
    "  voice=\"alloy\",\n",
    "  input= input\n",
    ")\n",
    "\n",
    "response.stream_to_file(\"speech.mp3\")\n",
    "IPython.display.Audio(\"speech.mp3\")"
   ]
  },
  {
   "cell_type": "markdown",
   "metadata": {},
   "source": [
    "#### Ask your Personal Travel Planning Assistant anything regarding your travel plans"
   ]
  },
  {
   "cell_type": "code",
   "execution_count": null,
   "metadata": {},
   "outputs": [],
   "source": [
    "client = OpenAI()\n",
    "\n",
    "def generate_response(user_prompt, system_role = f'You are a travel planning assistant. Study the content of {itinerary} to use any question the user asked you. In the itinerary \"Day\" is word as delimiter to know the day number and content. Your goal is to assist the user based on the provided itinerary for their trip. Answer the user question and assist them in an engaging and conversiional manner. You will answer questions and provide information only related to the details in the itinerary. Ensure your responses are clear, informative, and based solely on the itinerary content. Always refer to the specific day and activities listed in the itinerary.',\n",
    "                      model='gpt-3.5-turbo', temperature = 1 ):\n",
    "    messages=[\n",
    "        {\"role\": \"system\", \"content\": system_role},\n",
    "        {\"role\": \"user\", \"content\": user_prompt}\n",
    "    ]\n",
    "    \n",
    "    response = client.chat.completions.create(\n",
    "        model=model, messages=messages, temperature=temperature)\n",
    "    \n",
    "    return response.choices[0].message.content\n"
   ]
  },
  {
   "cell_type": "markdown",
   "metadata": {},
   "source": [
    "#### Ask any question here"
   ]
  },
  {
   "cell_type": "code",
   "execution_count": null,
   "metadata": {},
   "outputs": [],
   "source": [
    "response_input = \"What am I going to do in the fifth day?\""
   ]
  },
  {
   "cell_type": "code",
   "execution_count": null,
   "metadata": {},
   "outputs": [],
   "source": [
    "response = generate_response(response_input)\n",
    "display(Markdown(response))"
   ]
  },
  {
   "cell_type": "markdown",
   "metadata": {},
   "source": [
    "#### AI will answer your question in voice"
   ]
  },
  {
   "cell_type": "code",
   "execution_count": null,
   "metadata": {},
   "outputs": [],
   "source": [
    "response = client.audio.speech.create(\n",
    "  model=\"tts-1\",\n",
    "  voice=\"alloy\",\n",
    "  input= response\n",
    ")\n",
    "\n",
    "response.stream_to_file(\"speech.mp3\")\n",
    "IPython.display.Audio(\"speech.mp3\")"
   ]
  }
 ],
 "metadata": {
  "kernelspec": {
   "display_name": "Python 3",
   "language": "python",
   "name": "python3"
  },
  "language_info": {
   "codemirror_mode": {
    "name": "ipython",
    "version": 3
   },
   "file_extension": ".py",
   "mimetype": "text/x-python",
   "name": "python",
   "nbconvert_exporter": "python",
   "pygments_lexer": "ipython3",
   "version": "3.11.3"
  }
 },
 "nbformat": 4,
 "nbformat_minor": 2
}
